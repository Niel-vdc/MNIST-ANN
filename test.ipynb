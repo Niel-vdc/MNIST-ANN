{
 "cells": [
  {
   "cell_type": "code",
   "execution_count": 12,
   "metadata": {},
   "outputs": [
    {
     "name": "stdout",
     "output_type": "stream",
     "text": [
      "Epoch 1/5\n",
      "1875/1875 [==============================] - 10s 5ms/step - loss: 0.3020 - accuracy: 0.9090\n",
      "Epoch 2/5\n",
      "1875/1875 [==============================] - 10s 5ms/step - loss: 0.1486 - accuracy: 0.9549\n",
      "Epoch 3/5\n",
      "1875/1875 [==============================] - 11s 6ms/step - loss: 0.1114 - accuracy: 0.9654\n",
      "Epoch 4/5\n",
      "1875/1875 [==============================] - 12s 7ms/step - loss: 0.0935 - accuracy: 0.9707\n",
      "Epoch 5/5\n",
      "1875/1875 [==============================] - 11s 6ms/step - loss: 0.0827 - accuracy: 0.9726\n",
      "INFO:tensorflow:Assets written to: handwritten.model/assets\n"
     ]
    },
    {
     "name": "stderr",
     "output_type": "stream",
     "text": [
      "INFO:tensorflow:Assets written to: handwritten.model/assets\n"
     ]
    }
   ],
   "source": [
    "import numpy as np\n",
    "import pandas as pd\n",
    "# from sklearn.neural_network import MLPClassifier\n",
    "# from sklearn.preprocessing import normalize\n",
    "# from sklearn.metrics import accuracy_score\n",
    "import tensorflow as tf\n",
    "\n",
    "mnist_train = pd.read_csv(\"mnist_data/mnist_train.csv\")\n",
    "mnist_train = mnist_train.to_numpy()\n",
    "X_train = tf.keras.utils.normalize(np.array([i[1:] for i in mnist_train]), axis=1)\n",
    "y_train = np.array([i[0] for i in mnist_train])\n",
    "\n",
    "mnist_test = pd.read_csv(\"mnist_data/mnist_test.csv\")\n",
    "mnist_test = mnist_test.to_numpy()\n",
    "X_test = tf.keras.utils.normalize(np.array([i[1:] for i in mnist_test]), axis=1)\n",
    "y_test = np.array([i[0] for i in mnist_test])\n",
    "\n",
    "\n",
    "model = tf.keras.models.Sequential()\n",
    "\n",
    "model.add(tf.keras.layers.Dense(784, None))\n",
    "model.add(tf.keras.layers.Dense(60, 'relu'))\n",
    "model.add(tf.keras.layers.Dense(60, 'relu'))\n",
    "model.add(tf.keras.layers.Dense(10, 'softmax'))\n",
    "\n",
    "model.compile(optimizer='adam', loss='sparse_categorical_crossentropy', metrics=['accuracy'])\n",
    "\n",
    "model.fit(X_train, y_train, epochs=5)\n",
    "model.save('handwritten.model')\n",
    "\n",
    "\n"
   ]
  }
 ],
 "metadata": {
  "kernelspec": {
   "display_name": "Python 3",
   "language": "python",
   "name": "python3"
  },
  "language_info": {
   "codemirror_mode": {
    "name": "ipython",
    "version": 3
   },
   "file_extension": ".py",
   "mimetype": "text/x-python",
   "name": "python",
   "nbconvert_exporter": "python",
   "pygments_lexer": "ipython3",
   "version": "3.9.7"
  },
  "orig_nbformat": 4
 },
 "nbformat": 4,
 "nbformat_minor": 2
}
